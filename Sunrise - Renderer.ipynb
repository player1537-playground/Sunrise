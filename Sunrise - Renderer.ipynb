{
 "cells": [
  {
   "cell_type": "markdown",
   "id": "c31d1647",
   "metadata": {
    "toc": true
   },
   "source": [
    "<h1>Table of Contents<span class=\"tocSkip\"></span></h1>\n",
    "<div class=\"toc\"><ul class=\"toc-item\"><li><span><a href=\"#Setup\" data-toc-modified-id=\"Setup-1\"><span class=\"toc-item-num\">1&nbsp;&nbsp;</span>Setup</a></span></li><li><span><a href=\"#Utilities\" data-toc-modified-id=\"Utilities-2\"><span class=\"toc-item-num\">2&nbsp;&nbsp;</span>Utilities</a></span></li></ul></div>"
   ]
  },
  {
   "cell_type": "markdown",
   "id": "eb85760f",
   "metadata": {
    "ExecuteTime": {
     "end_time": "2023-08-21T18:38:26.318075Z",
     "start_time": "2023-08-21T18:38:26.314075Z"
    }
   },
   "source": [
    "## Setup"
   ]
  },
  {
   "cell_type": "code",
   "execution_count": 1,
   "id": "b9c4e27d",
   "metadata": {
    "ExecuteTime": {
     "end_time": "2023-08-21T19:31:33.912841Z",
     "start_time": "2023-08-21T19:31:33.889057Z"
    }
   },
   "outputs": [
    {
     "name": "stdout",
     "output_type": "stream",
     "text": [
      "/home/thobson2/src/Sunrise-Demo\n"
     ]
    }
   ],
   "source": [
    "%cd ~/src/Sunrise-Demo/\n",
    "from __future__ import annotations\n",
    "try:\n",
    "#     raise ImportError(r\"Force re-install library\")\n",
    "    from mediocreatbest import auto, run\n",
    "    \n",
    "except ImportError:\n",
    "    %pip install --quiet --upgrade pip\n",
    "    %pip install --upgrade --force-reinstall \\\n",
    "        mediocreatbest@git+https://gist.github.com/player1537/3457b026ed6ef6696d758517f55a58df.git\n",
    "    from mediocreatbest import auto, run\n",
    "    "
   ]
  },
  {
   "cell_type": "code",
   "execution_count": 2,
   "id": "da8d0b72",
   "metadata": {
    "ExecuteTime": {
     "end_time": "2023-08-21T19:31:33.922768Z",
     "start_time": "2023-08-21T19:31:33.916884Z"
    }
   },
   "outputs": [],
   "source": [
    "try:\n",
    "    import ospray\n",
    "except ImportError:\n",
    "    %pip install --user \\\n",
    "        ospray@git+https://gist.github.com/player1537/c06faa784cc993fd6fd9c112d9feb5d9.git\n",
    "    import ospray\n",
    "    "
   ]
  },
  {
   "cell_type": "code",
   "execution_count": 3,
   "id": "2bc8e175",
   "metadata": {
    "ExecuteTime": {
     "end_time": "2023-08-21T19:31:33.954595Z",
     "start_time": "2023-08-21T19:31:33.926036Z"
    }
   },
   "outputs": [
    {
     "name": "stdout",
     "output_type": "stream",
     "text": [
      "Initializing OSPRay\n"
     ]
    }
   ],
   "source": [
    "%%scope\n",
    "version = '2.12.0'\n",
    "url = f'https://github.com/ospray/ospray/releases/download/v{version}/ospray-{version}.x86_64.linux.tar.gz'\n",
    "archive = auto.xdg_base_dirs.xdg_cache_home() / f'ospray-{version}.tar.gz'\n",
    "prefix = auto.xdg_base_dirs.xdg_cache_home() / f'ospray-{version}'\n",
    "library = prefix / 'lib' / 'libospray.so'\n",
    "\n",
    "def Download():\n",
    "    if archive.exists():\n",
    "        print(f\"\"\"Already downloaded {archive}\"\"\")\n",
    "        return\n",
    "    \n",
    "    print(f\"\"\"Download {url} to {archive}\"\"\")\n",
    "    auto.urllib.request.urlretrieve(\n",
    "        url,\n",
    "        filename=archive,\n",
    "    )\n",
    "\n",
    "def Extract():\n",
    "    if prefix.exists():\n",
    "        print(f\"Directory {prefix} already exists\"\"\")\n",
    "        return\n",
    "    \n",
    "    print(f\"\"\"Extract {archive} to {prefix}\"\"\")\n",
    "    with auto.tempfile.TemporaryDirectory() as tmp:\n",
    "        tmp = auto.pathlib.Path(tmp)\n",
    "        \n",
    "        with auto.tarfile.open(archive) as tar:\n",
    "            tar.extractall(tmp)\n",
    "        \n",
    "        auto.shutil.move(\n",
    "            tmp / f'ospray-{version}.x86_64.linux',\n",
    "            prefix,\n",
    "        )\n",
    "        \n",
    "def Library() -> 'lib':\n",
    "    return ospray.load_library(library)\n",
    "    \n",
    "# auto.os.environ['LD_LIBRARY_PATH'] = \\\n",
    "#     str(auto.pathlib.Path.home() / 'opt' / '')\n",
    "\n",
    "global lib\n",
    "\n",
    "try:\n",
    "    lib\n",
    "    print(f\"\"\"Already initialized OSPRay\"\"\")\n",
    "\n",
    "except NameError:\n",
    "    try:\n",
    "        lib = Library()\n",
    "    except OSError:\n",
    "        Download()\n",
    "        Extract()\n",
    "        lib = Library()\n",
    "    \n",
    "    print(f\"\"\"Initializing OSPRay\"\"\")\n",
    "    lib.ospInit(None, None)\n",
    "    "
   ]
  },
  {
   "cell_type": "markdown",
   "id": "3087b6b9",
   "metadata": {},
   "source": [
    "## Utilities"
   ]
  },
  {
   "cell_type": "code",
   "execution_count": 4,
   "id": "598015a4",
   "metadata": {
    "ExecuteTime": {
     "end_time": "2023-08-21T19:31:33.969162Z",
     "start_time": "2023-08-21T19:31:33.959310Z"
    },
    "cell_style": "split"
   },
   "outputs": [],
   "source": [
    "def Data(\n",
    "    array: auto.numpy.ndarray,\n",
    "    /,\n",
    "    *,\n",
    "    type: lib.OSPDataType,\n",
    "    share: bool=False,\n",
    ") -> lib.OSPData:\n",
    "    if len(array.shape) == 0:\n",
    "        array = array[None, None, None]\n",
    "\n",
    "    elif len(array.shape) == 1:\n",
    "        array = array[:, None, None]\n",
    "\n",
    "    elif len(array.shape) == 2:\n",
    "        array = array[:, :, None]\n",
    "\n",
    "    elif len(array.shape) == 3:\n",
    "        array = array[:, :, :]\n",
    "\n",
    "    else:\n",
    "        raise NotImplementedError()\n",
    "\n",
    "    src = lib.ospNewSharedData(\n",
    "        array.ctypes.data, type,\n",
    "        array.shape[0], array.strides[0],\n",
    "        array.shape[1], array.strides[1],\n",
    "        array.shape[2], array.strides[2],\n",
    "    )\n",
    "    lib.ospCommit(src)\n",
    "    \n",
    "    if share:\n",
    "        return src\n",
    "\n",
    "    dst = lib.ospNewData(type, *array.shape)\n",
    "    lib.ospCopyData(src, dst, 0, 0, 0)\n",
    "    lib.ospCommit(dst)\n",
    "\n",
    "    lib.ospRelease(src)\n",
    "    return dst\n"
   ]
  },
  {
   "cell_type": "code",
   "execution_count": 5,
   "id": "11407474",
   "metadata": {
    "ExecuteTime": {
     "end_time": "2023-08-21T19:31:33.981613Z",
     "start_time": "2023-08-21T19:31:33.972466Z"
    },
    "cell_style": "split"
   },
   "outputs": [],
   "source": [
    "def Read(\n",
    "    path: auto.pathlib.Path,\n",
    "    /,\n",
    "    *,\n",
    "    dtype: auto.numpy.DType,\n",
    "    mmap: bool=True,\n",
    ") -> auto.numpy.NDArray:\n",
    "    path = auto.pathlib.Path(path)\n",
    "\n",
    "    print(f\"\"\"Reading {path.stat().st_size :,d} bytes from {path}\"\"\")\n",
    "    with open(path, 'rb') as f:\n",
    "        def Read(fmt: str, /) -> tuple:\n",
    "            size = auto.struct.calcsize(fmt)\n",
    "            data = f.read(size)\n",
    "            assert len(data) == size\n",
    "            return auto.struct.unpack(fmt, data)\n",
    "        \n",
    "        N ,= Read('I')\n",
    "        shape = Read(f'{N}I')\n",
    "        \n",
    "        if mmap:\n",
    "            data = auto.numpy.memmap(\n",
    "                f,\n",
    "                mode='r',\n",
    "                dtype=dtype,\n",
    "                offset=f.tell(),\n",
    "                shape=shape,\n",
    "            )\n",
    "        \n",
    "        else:\n",
    "            data = auto.numpy.fromfile(f, dtype=dtype)\n",
    "            data = data.reshape(shape)\n",
    "\n",
    "    return data\n"
   ]
  },
  {
   "cell_type": "code",
   "execution_count": 6,
   "id": "7f38fbfa",
   "metadata": {
    "ExecuteTime": {
     "end_time": "2023-08-21T19:31:33.990193Z",
     "start_time": "2023-08-21T19:31:33.984888Z"
    },
    "cell_style": "split"
   },
   "outputs": [],
   "source": [
    "def DataRead(\n",
    "    path: auto.pathlib.Path,\n",
    "    /,\n",
    "    dtype: auto.numpy.DType,\n",
    "    type: lib.OSPDataType,\n",
    "    share: bool=False,\n",
    "    mmap: bool=True,\n",
    ") -> lib.OSPData:\n",
    "    return Data(\n",
    "        Read(\n",
    "            path,\n",
    "            dtype=dtype,\n",
    "        ),\n",
    "        type=type,\n",
    "        share=share,\n",
    "        mmap=mmap,\n",
    "    )\n"
   ]
  },
  {
   "cell_type": "code",
   "execution_count": 7,
   "id": "1c79e216",
   "metadata": {
    "ExecuteTime": {
     "end_time": "2023-08-21T19:31:33.997222Z",
     "start_time": "2023-08-21T19:31:33.993371Z"
    }
   },
   "outputs": [],
   "source": [
    "# try:\n",
    "#     __scene\n",
    "# except NameError:\n",
    "#     __scene = {}\n",
    "\n",
    "# @auto.mediocreatbest.immediate\n",
    "# class S:\n",
    "#     def __setitem__()\n",
    "    \n",
    "try:\n",
    "    S\n",
    "except NameError:\n",
    "    S = {}\n"
   ]
  },
  {
   "cell_type": "code",
   "execution_count": 35,
   "id": "fc27f45a",
   "metadata": {
    "ExecuteTime": {
     "end_time": "2023-08-21T19:52:02.862146Z",
     "start_time": "2023-08-21T19:52:02.851968Z"
    }
   },
   "outputs": [],
   "source": [
    "%%scope --skip -n Pink -i i -o pink\n",
    "S[f\"pink{i}texture/data:vec3f[]\"] = Read(\n",
    "    f\"data/pink{i}/OSPTexture.texture2d.data.vec3f.bin\",\n",
    "    dtype=[ ('r', 'f4'), ('g', 'f4'), ('b', 'f4') ],\n",
    ")\n",
    "\n",
    "S[f\"pink{i}/texture/data\"] = Data(\n",
    "    S[f\"pink{i}/texture/data:vec3f[]\"],\n",
    "    type=lib.OSP_VEC3F,\n",
    "    share=True,\n",
    ")\n",
    "\n",
    "S[f\"pink{i}/texture\"] = lib.ospNewTexture(b'texture2d')\n",
    "lib.ospSetObject(S[f\"pink{i}/texture\"],\n",
    "    b'data', S[f\"pink{i}/texture/data\"])\n",
    "lib.ospCommit(S[f\"pink{i}/texture\"])\n",
    "\n",
    "S[f\"pink{i}/material\"] = lib.ospNewMaterial(None, b'obj')\n",
    "lib.ospSetObject(S[f\"pink{i}/material\"],\n",
    "    b'map_kd', S[f\"pink{i}/texture\"])\n",
    "lib.ospCommit(S[f\"pink{i}/material\"])\n",
    "\n",
    "pink = S[f\"pink{i}/material\"]\n"
   ]
  },
  {
   "cell_type": "code",
   "execution_count": 36,
   "id": "d626929d",
   "metadata": {
    "ExecuteTime": {
     "end_time": "2023-08-21T19:52:19.785570Z",
     "start_time": "2023-08-21T19:52:19.776736Z"
    }
   },
   "outputs": [
    {
     "name": "stdout",
     "output_type": "stream",
     "text": [
      "Reading 402,653,196 bytes from data/pink0/OSPTexture.texture2d.data.vec3f.bin\n",
      "Reading 402,653,196 bytes from data/pink1/OSPTexture.texture2d.data.vec3f.bin\n",
      "Reading 402,653,196 bytes from data/pink2/OSPTexture.texture2d.data.vec3f.bin\n",
      "Reading 402,653,196 bytes from data/pink3/OSPTexture.texture2d.data.vec3f.bin\n"
     ]
    }
   ],
   "source": [
    "pink0 = Pink(i=0)\n",
    "pink1 = Pink(i=1)\n",
    "pink2 = Pink(i=2)\n",
    "pink3 = Pink(i=3)\n"
   ]
  },
  {
   "cell_type": "code",
   "execution_count": 37,
   "id": "be965c02",
   "metadata": {
    "ExecuteTime": {
     "end_time": "2023-08-21T19:54:32.492076Z",
     "start_time": "2023-08-21T19:54:32.477002Z"
    },
    "cell_style": "center"
   },
   "outputs": [
    {
     "name": "stdout",
     "output_type": "stream",
     "text": [
      "Reading 2,906,253,336 bytes from data/park/OSPGeometry.mesh.vertex.position.vec3f.bin\n",
      "Reading 1,937,502,228 bytes from data/park/OSPGeometry.mesh.vertex.texcoord.vec2f.bin\n",
      "Reading 3,874,472,012 bytes from data/park/OSPGeometry.mesh.index.vec4ui.bin\n"
     ]
    }
   ],
   "source": [
    "%%scope -n Park -o park\n",
    "S[\"park/OSPGeometry:mesh:vertex.position:vec3f[]\"] = Read(\n",
    "    'data/park/OSPGeometry.mesh.vertex.position.vec3f.bin',\n",
    "    dtype=[ ('x', 'f4'), ('y', 'f4'), ('z', 'f4') ],\n",
    ")\n",
    "\n",
    "S[\"park/OSPGeometry:mesh:vertex.texcoord:vec2f[]\"] = Read(\n",
    "    'data/park/OSPGeometry.mesh.vertex.texcoord.vec2f.bin',\n",
    "    dtype=[ ('u', 'f4'), ('v', 'f4') ],\n",
    ")\n",
    "\n",
    "S[\"park/OSPGeometry:mesh:index:vec4ui[]\"] = Read(\n",
    "    'data/park/OSPGeometry.mesh.index.vec4ui.bin',\n",
    "    dtype=[ ('a', 'u4'), ('b', 'u4'), ('c', 'u4'), ('d', 'u4') ],\n",
    ")\n",
    "\n",
    "S[\"park/OSPGeometry:mesh:vertex.position\"] = Data(\n",
    "    S[\"park/OSPGeometry:mesh:vertex.position:vec3f[]\"],\n",
    "    type=lib.OSP_VEC3F,\n",
    "    share=True,\n",
    ")\n",
    "\n",
    "S[\"park/OSPGeometry:mesh:vertex.texcoord\"] = Data(\n",
    "    S[\"park/OSPGeometry:mesh:vertex.texcoord:vec2f[]\"],\n",
    "    type=lib.OSP_VEC2F,\n",
    "    share=True,\n",
    ")\n",
    "\n",
    "S[\"park/OSPGeometry:mesh:index\"] = Data(\n",
    "    S[\"park/OSPGeometry:mesh:index:vec4ui[]\"],\n",
    "    type=lib.OSP_VEC4UI,\n",
    "    share=True,\n",
    ")\n",
    "\n",
    "S[\"park/OSPGeometry:mesh\"] = lib.ospNewGeometry(b'mesh')\n",
    "lib.ospSetObject(S[\"park/OSPGeometry:mesh\"],\n",
    "    b'vertex.position', S[\"park/OSPGeometry:mesh:vertex.position\"])\n",
    "lib.ospSetObject(S[\"park/OSPGeometry:mesh\"],\n",
    "    b'vertex.texcoord', S[\"park/OSPGeometry:mesh:vertex.texcoord\"])\n",
    "lib.ospSetObject(S[\"park/OSPGeometry:mesh\"],\n",
    "    b'index', S[\"park/OSPGeometry:mesh:index\"])\n",
    "lib.ospCommit(S[\"park/OSPGeometry:mesh\"])\n",
    "\n",
    "park = S[\"park/OSPGeometry:mesh\"]\n"
   ]
  },
  {
   "cell_type": "code",
   "execution_count": null,
   "id": "1f86f92e",
   "metadata": {
    "ExecuteTime": {
     "end_time": "2023-08-21T19:31:42.466514Z",
     "start_time": "2023-08-21T19:31:42.168795Z"
    }
   },
   "outputs": [],
   "source": [
    "S[\"park/OSPGeometricModel:geometry:OSPGeometry[]\"] = auto.numpy.array([\n",
    "    \n",
    "])"
   ]
  },
  {
   "cell_type": "code",
   "execution_count": null,
   "id": "9946fa31",
   "metadata": {},
   "outputs": [],
   "source": []
  }
 ],
 "metadata": {
  "hide_input": false,
  "kernelspec": {
   "display_name": "python3@accona",
   "language": "python",
   "name": "python3-accona"
  },
  "language_info": {
   "codemirror_mode": {
    "name": "ipython",
    "version": 3
   },
   "file_extension": ".py",
   "mimetype": "text/x-python",
   "name": "python",
   "nbconvert_exporter": "python",
   "pygments_lexer": "ipython3",
   "version": "3.10.12"
  },
  "toc": {
   "base_numbering": 1,
   "nav_menu": {},
   "number_sections": true,
   "sideBar": true,
   "skip_h1_title": false,
   "title_cell": "Table of Contents",
   "title_sidebar": "Contents",
   "toc_cell": true,
   "toc_position": {},
   "toc_section_display": true,
   "toc_window_display": false
  }
 },
 "nbformat": 4,
 "nbformat_minor": 5
}
