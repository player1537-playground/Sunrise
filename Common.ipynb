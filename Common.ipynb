{
 "cells": [
  {
   "cell_type": "code",
   "execution_count": 4,
   "id": "e5f59877",
   "metadata": {},
   "outputs": [
    {
     "name": "stdout",
     "output_type": "stream",
     "text": [
      "__name__ = '__main__'\n"
     ]
    },
    {
     "name": "stderr",
     "output_type": "stream",
     "text": [
      "WARNING: pip is being invoked by an old script wrapper. This will fail in a future version of pip.\n",
      "Please see https://github.com/pypa/pip/issues/5599 for advice on fixing the underlying issue.\n",
      "To avoid this problem you can invoke Python with '-m pip' instead of running pip directly.\n",
      "WARNING: pip is being invoked by an old script wrapper. This will fail in a future version of pip.\n",
      "Please see https://github.com/pypa/pip/issues/5599 for advice on fixing the underlying issue.\n",
      "To avoid this problem you can invoke Python with '-m pip' instead of running pip directly.\n"
     ]
    },
    {
     "data": {
      "text/html": [
       "<pre style=\"white-space:pre;overflow-x:auto;line-height:normal;font-family:Menlo,'DejaVu Sans Mono',consolas,'Courier New',monospace\">Collecting git+https://gist.github.com/player1537/3457b026ed6ef6696d758517f55a58df.git\n",
       "</pre>\n"
      ],
      "text/plain": [
       "Collecting git+https://gist.github.com/player1537/3457b026ed6ef6696d758517f55a58df.git\n"
      ]
     },
     "metadata": {},
     "output_type": "display_data"
    },
    {
     "data": {
      "text/html": [
       "<pre style=\"white-space:pre;overflow-x:auto;line-height:normal;font-family:Menlo,'DejaVu Sans Mono',consolas,'Courier New',monospace\">  Cloning https://gist.github.com/player1537/3457b026ed6ef6696d758517f55a58df.git to /tmp/pip-req-build-do2wbdqa\n",
       "</pre>\n"
      ],
      "text/plain": [
       "  Cloning https://gist.github.com/player1537/3457b026ed6ef6696d758517f55a58df.git to /tmp/pip-req-build-do2wbdqa\n"
      ]
     },
     "metadata": {},
     "output_type": "display_data"
    },
    {
     "data": {
      "text/html": [
       "<pre style=\"white-space:pre;overflow-x:auto;line-height:normal;font-family:Menlo,'DejaVu Sans Mono',consolas,'Courier New',monospace\">  Running command git clone --filter=blob:none --quiet https://gist.github.com/player1537/3457b026ed6ef6696d758517f55a58df.git /tmp/pip-req-build-do2wbdqa\n",
       "</pre>\n"
      ],
      "text/plain": [
       "  Running command git clone --filter=blob:none --quiet https://gist.github.com/player1537/3457b026ed6ef6696d758517f55a58df.git /tmp/pip-req-build-do2wbdqa\n"
      ]
     },
     "metadata": {},
     "output_type": "display_data"
    },
    {
     "data": {
      "text/html": [
       "<pre style=\"white-space:pre;overflow-x:auto;line-height:normal;font-family:Menlo,'DejaVu Sans Mono',consolas,'Courier New',monospace\">  Resolved https://gist.github.com/player1537/3457b026ed6ef6696d758517f55a58df.git to commit 70f91b030bae6cfa01069cd8702a9d9dcb7feace\n",
       "</pre>\n"
      ],
      "text/plain": [
       "  Resolved https://gist.github.com/player1537/3457b026ed6ef6696d758517f55a58df.git to commit 70f91b030bae6cfa01069cd8702a9d9dcb7feace\n"
      ]
     },
     "metadata": {},
     "output_type": "display_data"
    },
    {
     "data": {
      "text/html": [
       "<pre style=\"white-space:pre;overflow-x:auto;line-height:normal;font-family:Menlo,'DejaVu Sans Mono',consolas,'Courier New',monospace\">  Installing build dependencies: started\n",
       "</pre>\n"
      ],
      "text/plain": [
       "  Installing build dependencies: started\n"
      ]
     },
     "metadata": {},
     "output_type": "display_data"
    },
    {
     "data": {
      "text/html": [
       "<pre style=\"white-space:pre;overflow-x:auto;line-height:normal;font-family:Menlo,'DejaVu Sans Mono',consolas,'Courier New',monospace\">  Installing build dependencies: finished with status 'done'\n",
       "</pre>\n"
      ],
      "text/plain": [
       "  Installing build dependencies: finished with status 'done'\n"
      ]
     },
     "metadata": {},
     "output_type": "display_data"
    },
    {
     "data": {
      "text/html": [
       "<pre style=\"white-space:pre;overflow-x:auto;line-height:normal;font-family:Menlo,'DejaVu Sans Mono',consolas,'Courier New',monospace\">  Getting requirements to build wheel: started\n",
       "</pre>\n"
      ],
      "text/plain": [
       "  Getting requirements to build wheel: started\n"
      ]
     },
     "metadata": {},
     "output_type": "display_data"
    },
    {
     "data": {
      "text/html": [
       "<pre style=\"white-space:pre;overflow-x:auto;line-height:normal;font-family:Menlo,'DejaVu Sans Mono',consolas,'Courier New',monospace\">  Getting requirements to build wheel: finished with status 'done'\n",
       "</pre>\n"
      ],
      "text/plain": [
       "  Getting requirements to build wheel: finished with status 'done'\n"
      ]
     },
     "metadata": {},
     "output_type": "display_data"
    },
    {
     "data": {
      "text/html": [
       "<pre style=\"white-space:pre;overflow-x:auto;line-height:normal;font-family:Menlo,'DejaVu Sans Mono',consolas,'Courier New',monospace\">  Preparing metadata (pyproject.toml): started\n",
       "</pre>\n"
      ],
      "text/plain": [
       "  Preparing metadata (pyproject.toml): started\n"
      ]
     },
     "metadata": {},
     "output_type": "display_data"
    },
    {
     "data": {
      "text/html": [
       "<pre style=\"white-space:pre;overflow-x:auto;line-height:normal;font-family:Menlo,'DejaVu Sans Mono',consolas,'Courier New',monospace\">  Preparing metadata (pyproject.toml): finished with status 'done'\n",
       "</pre>\n"
      ],
      "text/plain": [
       "  Preparing metadata (pyproject.toml): finished with status 'done'\n"
      ]
     },
     "metadata": {},
     "output_type": "display_data"
    },
    {
     "data": {
      "text/html": [
       "<pre style=\"white-space:pre;overflow-x:auto;line-height:normal;font-family:Menlo,'DejaVu Sans Mono',consolas,'Courier New',monospace\">Building wheels for collected packages: mediocreatbest\n",
       "</pre>\n"
      ],
      "text/plain": [
       "Building wheels for collected packages: mediocreatbest\n"
      ]
     },
     "metadata": {},
     "output_type": "display_data"
    },
    {
     "data": {
      "text/html": [
       "<pre style=\"white-space:pre;overflow-x:auto;line-height:normal;font-family:Menlo,'DejaVu Sans Mono',consolas,'Courier New',monospace\">  Building wheel for mediocreatbest (pyproject.toml): started\n",
       "</pre>\n"
      ],
      "text/plain": [
       "  Building wheel for mediocreatbest (pyproject.toml): started\n"
      ]
     },
     "metadata": {},
     "output_type": "display_data"
    },
    {
     "data": {
      "text/html": [
       "<pre style=\"white-space:pre;overflow-x:auto;line-height:normal;font-family:Menlo,'DejaVu Sans Mono',consolas,'Courier New',monospace\">  Building wheel for mediocreatbest (pyproject.toml): finished with status 'done'\n",
       "</pre>\n"
      ],
      "text/plain": [
       "  Building wheel for mediocreatbest (pyproject.toml): finished with status 'done'\n"
      ]
     },
     "metadata": {},
     "output_type": "display_data"
    },
    {
     "data": {
      "text/html": [
       "<pre style=\"white-space:pre;overflow-x:auto;line-height:normal;font-family:Menlo,'DejaVu Sans Mono',consolas,'Courier New',monospace\">  Created wheel for mediocreatbest: filename=mediocreatbest-0.1.0-py3-none-any.whl size=4351 sha256=77ebd2d803c12ad906fc7dad4f5291ffb69f0eec74db4880183b4e8fc177ec24\n",
       "</pre>\n"
      ],
      "text/plain": [
       "  Created wheel for mediocreatbest: filename=mediocreatbest-0.1.0-py3-none-any.whl size=4351 sha256=77ebd2d803c12ad906fc7dad4f5291ffb69f0eec74db4880183b4e8fc177ec24\n"
      ]
     },
     "metadata": {},
     "output_type": "display_data"
    },
    {
     "data": {
      "text/html": [
       "<pre style=\"white-space:pre;overflow-x:auto;line-height:normal;font-family:Menlo,'DejaVu Sans Mono',consolas,'Courier New',monospace\">  Stored in directory: /tmp/pip-ephem-wheel-cache-9zkq0hjh/wheels/cc/6d/dd/d4137c3485df0cb8773c136ecc231252590bf217127892aaa5\n",
       "</pre>\n"
      ],
      "text/plain": [
       "  Stored in directory: /tmp/pip-ephem-wheel-cache-9zkq0hjh/wheels/cc/6d/dd/d4137c3485df0cb8773c136ecc231252590bf217127892aaa5\n"
      ]
     },
     "metadata": {},
     "output_type": "display_data"
    },
    {
     "data": {
      "text/html": [
       "<pre style=\"white-space:pre;overflow-x:auto;line-height:normal;font-family:Menlo,'DejaVu Sans Mono',consolas,'Courier New',monospace\">Successfully built mediocreatbest\n",
       "</pre>\n"
      ],
      "text/plain": [
       "Successfully built mediocreatbest\n"
      ]
     },
     "metadata": {},
     "output_type": "display_data"
    },
    {
     "data": {
      "text/html": [
       "<pre style=\"white-space:pre;overflow-x:auto;line-height:normal;font-family:Menlo,'DejaVu Sans Mono',consolas,'Courier New',monospace\">Installing collected packages: mediocreatbest\n",
       "</pre>\n"
      ],
      "text/plain": [
       "Installing collected packages: mediocreatbest\n"
      ]
     },
     "metadata": {},
     "output_type": "display_data"
    },
    {
     "data": {
      "text/html": [
       "<pre style=\"white-space:pre;overflow-x:auto;line-height:normal;font-family:Menlo,'DejaVu Sans Mono',consolas,'Courier New',monospace\">  Attempting uninstall: mediocreatbest\n",
       "</pre>\n"
      ],
      "text/plain": [
       "  Attempting uninstall: mediocreatbest\n"
      ]
     },
     "metadata": {},
     "output_type": "display_data"
    },
    {
     "data": {
      "text/html": [
       "<pre style=\"white-space:pre;overflow-x:auto;line-height:normal;font-family:Menlo,'DejaVu Sans Mono',consolas,'Courier New',monospace\">    Found existing installation: mediocreatbest 0.1.0\n",
       "</pre>\n"
      ],
      "text/plain": [
       "    Found existing installation: mediocreatbest 0.1.0\n"
      ]
     },
     "metadata": {},
     "output_type": "display_data"
    },
    {
     "data": {
      "text/html": [
       "<pre style=\"white-space:pre;overflow-x:auto;line-height:normal;font-family:Menlo,'DejaVu Sans Mono',consolas,'Courier New',monospace\">    Uninstalling mediocreatbest-0.1.0:\n",
       "</pre>\n"
      ],
      "text/plain": [
       "    Uninstalling mediocreatbest-0.1.0:\n"
      ]
     },
     "metadata": {},
     "output_type": "display_data"
    },
    {
     "data": {
      "text/html": [
       "<pre style=\"white-space:pre;overflow-x:auto;line-height:normal;font-family:Menlo,'DejaVu Sans Mono',consolas,'Courier New',monospace\">      Successfully uninstalled mediocreatbest-0.1.0\n",
       "</pre>\n"
      ],
      "text/plain": [
       "      Successfully uninstalled mediocreatbest-0.1.0\n"
      ]
     },
     "metadata": {},
     "output_type": "display_data"
    },
    {
     "data": {
      "text/html": [
       "<pre style=\"white-space:pre;overflow-x:auto;line-height:normal;font-family:Menlo,'DejaVu Sans Mono',consolas,'Courier New',monospace\">Successfully installed mediocreatbest-0.1.0\n",
       "</pre>\n"
      ],
      "text/plain": [
       "Successfully installed mediocreatbest-0.1.0\n"
      ]
     },
     "metadata": {},
     "output_type": "display_data"
    }
   ],
   "source": [
    "from __future__ import annotations\n",
    "print(f'{__name__ = !r}')\n",
    "if __name__ == '__main__':\n",
    "    import pip\n",
    "    pip.main(['install', '--quiet', '--upgrade', 'pip'])\n",
    "    pip.main(['install', '--upgrade', '--force-reinstall', 'git+https://gist.github.com/player1537/3457b026ed6ef6696d758517f55a58df.git'])\n",
    "    try:\n",
    "        __import__('importlib').reload(__import__('sys').modules['mediocreatbest'])\n",
    "    except KeyError:\n",
    "        print(f'Module \"mediocreatbest\" not in sys.modules?')\n",
    "    from mediocreatbest import auto, run\n",
    "    auto.register('mediocreatbest', 'git+https://gist.github.com/player1537/3457b026ed6ef6696d758517f55a58df.git')"
   ]
  },
  {
   "cell_type": "code",
   "execution_count": null,
   "id": "d10a6136",
   "metadata": {},
   "outputs": [],
   "source": [
    "def __numpy_string_function(arr):\n",
    "    name = arr.__class__.__name__\n",
    "    if arr.size < 1024:\n",
    "        values = auto.numpy.array_repr(auto.numpy.ravel(arr))\n",
    "    else:\n",
    "        values = '...'\n",
    "        \n",
    "    shape = auto.numpy.shape(arr)\n",
    "    dtype = arr.dtype\n",
    "    return f'{name}({values}, {shape=!r}, {dtype=!r})'\n",
    "auto.numpy.set_string_function(__numpy_string_function, repr=False)\n",
    "auto.numpy.set_string_function(__numpy_string_function, repr=True)\n",
    "\n",
    "auto.np.set_printoptions(\n",
    "    threshold=4,\n",
    "    edgeitems=0,\n",
    ")"
   ]
  },
  {
   "cell_type": "code",
   "execution_count": null,
   "id": "a39f666d",
   "metadata": {},
   "outputs": [],
   "source": [
    "Degree = auto.typing.NewType('Degree', float)\n",
    "Radian = auto.typing.NewType('Radian', float)\n",
    "Meter = auto.typing.NewType('Meter', float)\n",
    "Kilometer = auto.typing.NewType('Kilometer', float)"
   ]
  },
  {
   "cell_type": "code",
   "execution_count": null,
   "id": "75ae2738",
   "metadata": {},
   "outputs": [],
   "source": [
    "def convert_location_to_spatial(\n",
    "    *,\n",
    "    lat: Degree,\n",
    "    lng: Degree,\n",
    "    alt: Meter,\n",
    "    math=auto.math,\n",
    ") -> tuple[Meter, Meter, Meter]:\n",
    "    # Thanks https://gis.stackexchange.com/a/4148\n",
    "    \n",
    "    #> Note that \"Lat/Lon/Alt\" is just another name for spherical coordinates, and \n",
    "    #> phi/theta/rho are just another name for latitude, longitude, and altitude.\n",
    "    #> :) (A minor difference: altitude is usually measured from the surface of the \n",
    "    #> sphere; rho is measured from the center -- to convert, just add/subtract the \n",
    "    #> radius of the sphere.)\n",
    "    phi: Radian = math.radians(lat)\n",
    "    theta: Radian = math.radians(lng)\n",
    "    \n",
    "    # Thanks https://en.wikipedia.org/wiki/Earth_radius\n",
    "    #> A globally-average value is usually considered to be 6,371 kilometres (3,959 mi)\n",
    "    rho: Meter = 6_371_000 + alt\n",
    "    \n",
    "    #> x = math.cos(phi) * math.cos(theta) * rho\n",
    "    x: Meter = math.cos(phi) * math.cos(theta) * rho\n",
    "    \n",
    "    #> y = math.cos(phi) * math.sin(theta) * rho\n",
    "    y: Meter = math.cos(phi) * math.sin(theta) * rho\n",
    "\n",
    "    #> z = math.sin(phi) * rho # z is 'up'\n",
    "    z: Meter = math.sin(phi) * rho\n",
    "    \n",
    "    #> (Note there's some slightly arbitrary choices here in what each axis means...\n",
    "    #> you might want 'y' to point at the north pole instead of 'z', for example.)\n",
    "    \n",
    "    # I do :)\n",
    "    y, z = z, y\n",
    "    \n",
    "    return x, y, z"
   ]
  },
  {
   "cell_type": "code",
   "execution_count": null,
   "id": "8c9cd263",
   "metadata": {},
   "outputs": [],
   "source": [
    "@auto.mediocreatbest.doctest\n",
    "def convert_tile_coordinates_to_latlng(\n",
    "    *,\n",
    "    z: int,\n",
    "    x: int,\n",
    "    y: int,\n",
    "    math=auto.numpy,\n",
    "    return_google_maps_url: bool=False,\n",
    ") -> tuple[Degree, Degree]:\n",
    "    r\"\"\"\n",
    "\n",
    "    >>> convert_tile_coordinates_to_latlng(z=15, x=8739, y=12925, return_google_maps_url=True)\n",
    "    'https://www.google.com/maps/@35.48751102385376,-83.990478515625,15.79z?entry=ttu'\n",
    "\n",
    "    \"\"\"\n",
    "    \n",
    "    # Thanks https://gis.stackexchange.com/a/133535\n",
    "    \n",
    "    #> n = 2 ^ zoom\n",
    "    n = 2 ** z\n",
    "    \n",
    "    #> lon_deg = xtile / n * 360.0 - 180.0\n",
    "    lon_deg = x / n * 360.0 - 180.0\n",
    "    \n",
    "    #> lat_rad = arctan(sinh(π * (1 - 2 * ytile / n)))\n",
    "    lat_rad = math.arctan(math.sinh(math.pi * (1.0 - 2.0 * y / n)))\n",
    "    \n",
    "    #> lat_deg = lat_rad * 180.0 / π\n",
    "    lat_deg = lat_rad * 180.0 / math.pi\n",
    "    \n",
    "    if return_google_maps_url:\n",
    "        return f\"\"\"https://www.google.com/maps/@{lat_deg},{lon_deg},15.79z?entry=ttu\"\"\"\n",
    "    \n",
    "    return lat_deg, lon_deg"
   ]
  },
  {
   "cell_type": "code",
   "execution_count": null,
   "id": "48519eb0",
   "metadata": {},
   "outputs": [],
   "source": [
    "@auto.dataclasses.dataclass(eq=True, order=True, frozen=True)\n",
    "class Coord:\n",
    "    \"\"\"Tile image coordinates for mapbox/etc services\"\"\"\n",
    "    z: int\n",
    "    x: int\n",
    "    y: int\n",
    "\n",
    "    @property\n",
    "    def nw(self) -> Location:\n",
    "        \"\"\"North-West lat/lng of current tile\"\"\"\n",
    "        lat, lng = tile_coordinates_to_latlng(\n",
    "            z=self.z,\n",
    "            x=self.x,\n",
    "            y=self.y,\n",
    "        )\n",
    "        return Location(lat=lat, lng=lng)\n",
    "\n",
    "    @property\n",
    "    def se(self) -> Location:\n",
    "        \"\"\"South-East lat/lng of current tile\"\"\"\n",
    "        lat, lng = tile_coordinates_to_latlng(\n",
    "            z=self.z,\n",
    "            x=1+self.x,\n",
    "            y=1+self.y,\n",
    "        )\n",
    "        return Location(lat=lat, lng=lng)"
   ]
  },
  {
   "cell_type": "code",
   "execution_count": null,
   "id": "5f2866bb",
   "metadata": {},
   "outputs": [],
   "source": [
    "@auto.dataclasses.dataclass(eq=True, frozen=True)\n",
    "class Domain:\n",
    "    \"\"\"Lower (inclusive) and upper (inclusive) bounds of latitude/longitude\"\"\"\n",
    "    lo: Coord\n",
    "    hi: Coord\n",
    "        \n",
    "    @property\n",
    "    def coords(self) -> list[Coord]:\n",
    "        \"\"\"All coordinates within lower/upper bounds\"\"\"\n",
    "        coords = []\n",
    "        for z, x, y in auto.itertools.product(\n",
    "            range(self.lo.z, 1+self.hi.z),\n",
    "            range(self.lo.x, 1+self.hi.x),\n",
    "            range(self.lo.y, 1+self.hi.y),\n",
    "        ):\n",
    "            coords.append(Coord(\n",
    "                z=z,\n",
    "                x=x,\n",
    "                y=y,\n",
    "            ))\n",
    "        \n",
    "        return coords"
   ]
  },
  {
   "cell_type": "code",
   "execution_count": 2,
   "id": "81d6d083",
   "metadata": {},
   "outputs": [],
   "source": [
    "@auto.dataclasses.dataclass(eq=True, order=True, frozen=True)\n",
    "class Location:\n",
    "    \"\"\"Geographical latitude/longitude\"\"\"\n",
    "    lat: Degree\n",
    "    lng: Degree\n",
    "    alt: Meter | None = auto.dataclasses.field(default=None)"
   ]
  },
  {
   "cell_type": "code",
   "execution_count": null,
   "id": "a1aaf70f",
   "metadata": {},
   "outputs": [],
   "source": [
    "@auto.dataclasses.dataclass(eq=True, order=True, frozen=True)\n",
    "class Point:\n",
    "    x: Kilometer\n",
    "    y: Kilometer\n",
    "    z: Kilometer"
   ]
  },
  {
   "cell_type": "code",
   "execution_count": null,
   "id": "864c6c03",
   "metadata": {},
   "outputs": [],
   "source": [
    "# @dispatch\n",
    "@auto.dataclasses.dataclass(eq=True, order=True, frozen=True)\n",
    "class Tixel:\n",
    "    y: int\n",
    "    x: int\n",
    "        \n",
    "    z: auto.typing.ClassVar[int] = 23\n",
    "        \n",
    "    @property\n",
    "    def location(self) -> Location:\n",
    "        \"\"\"Center lat/lng of current tixel\"\"\"\n",
    "        lat, lng = tile_coordinates_to_latlng(\n",
    "            z=1+self.z,\n",
    "            x=1+self.x,\n",
    "            y=1+self.y,\n",
    "        )\n",
    "        return Location(lat=lat, lng=lng)\n",
    "\n",
    "# @Tixel.register\n",
    "# def __tixel_from_coord(coord: Coord, /, *, res: int):\n",
    "#     dz = int(auto.math.log2(Tixel.z - coord.z))\n",
    "    \n",
    "    "
   ]
  }
 ],
 "metadata": {
  "kernelspec": {
   "display_name": "Python 3 (ipykernel)",
   "language": "python",
   "name": "python3"
  },
  "language_info": {
   "codemirror_mode": {
    "name": "ipython",
    "version": 3
   },
   "file_extension": ".py",
   "mimetype": "text/x-python",
   "name": "python",
   "nbconvert_exporter": "python",
   "pygments_lexer": "ipython3",
   "version": "3.10.6"
  },
  "toc": {
   "base_numbering": 1,
   "nav_menu": {},
   "number_sections": true,
   "sideBar": false,
   "skip_h1_title": false,
   "title_cell": "Table of Contents",
   "title_sidebar": "Contents",
   "toc_cell": false,
   "toc_position": {},
   "toc_section_display": true,
   "toc_window_display": false
  }
 },
 "nbformat": 4,
 "nbformat_minor": 5
}
